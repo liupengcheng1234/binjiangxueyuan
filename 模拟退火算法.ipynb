{
 "cells": [
  {
   "cell_type": "markdown",
   "metadata": {},
   "source": [
    "# 模拟退火算法"
   ]
  },
  {
   "cell_type": "markdown",
   "metadata": {},
   "source": [
    "----"
   ]
  },
  {
   "cell_type": "markdown",
   "metadata": {},
   "source": [
    "## 任务目的"
   ]
  },
  {
   "cell_type": "markdown",
   "metadata": {},
   "source": [
    "熟悉和掌握模拟退火算法的核心原理和概念。"
   ]
  },
  {
   "cell_type": "markdown",
   "metadata": {},
   "source": [
    "## 任务内容"
   ]
  },
  {
   "cell_type": "markdown",
   "metadata": {},
   "source": [
    "编写模拟退火算法，实现二维数据点的最佳遍历路径。为了验证所设计算法的正确性，分别对三角函数和圆方程的最佳路径求解。  \n",
    "<a href='#坐标初始化'>坐标初始化</a><br/>\n",
    "<a href='#参数初始化'>参数初始化</a><br/>\n",
    "<a href='#迭代计算'>迭代计算</a><br/>\n",
    "<a href='#最佳路径绘制'>最佳路径绘制</a><br/>\n",
    "<a href='#扩展实验'>扩展实验</a><br/>"
   ]
  },
  {
   "cell_type": "markdown",
   "metadata": {},
   "source": [
    "## 任务原理"
   ]
  },
  {
   "cell_type": "markdown",
   "metadata": {},
   "source": [
    "模拟退火算法来源于固体退火原理，是一种基于概率的算法，将固体加温至充分高，再让其徐徐冷却。加温时，固体内部粒子随温升变为无序状，内能增大，而徐徐冷却时粒子渐趋有序，在每个温度都达到平衡态，最后在常温时达到基态，内能减为最小。模拟退火其实也是一种贪婪算法，但是它的搜索过程引入了随机因素，以一定的概率来接受一个比当前解要差的解，因此有可能会跳出这个局部的最优解，达到全局的最优解。  \n",
    "根据Metropolis准则，粒子在温度T时趋于平衡的概率为$exp(-ΔE/(kT))$，其中E为温度$T$时的内能，$ΔE$为其改变数,$k$为Boltzmann常数。Metropolis准则常表示为：  \n",
    "<img src=\"../../image/MachineLearningAlgorithm/1-8.png\" width=\"400\" length=\"300\"> \n",
    "总结起来就是：  \n",
    "•若 $E(x_{new})<E(x_{old})$(即移动后得到更优解)，则总是接受该移动；  \n",
    "•若$E(x_{new})>E(x_{old})$(即移动后的解比当前解要差)，则以一定的概率接受移动，而且这个概率随着时间推移逐渐降低（逐渐降低才能趋向稳定）。  \n"
   ]
  },
  {
   "cell_type": "markdown",
   "metadata": {},
   "source": [
    "## 任务步骤"
   ]
  },
  {
   "cell_type": "markdown",
   "metadata": {},
   "source": [
    "### 坐标初始化"
   ]
  },
  {
   "cell_type": "markdown",
   "metadata": {},
   "source": [
    "1、添加如下所示的包和库文件，pdb库可用于代码的调试。Getdistmat用于计算不同坐标点之间的距离值。"
   ]
  },
  {
   "cell_type": "markdown",
   "metadata": {},
   "source": [
    "```python\n",
    "import numpy as np\n",
    "import matplotlib.pyplot as plt\n",
    "import sys\n",
    "import math\n",
    "import pdb\n",
    "import random\n",
    "# 根据城市的坐标，得到邻接矩阵\n",
    "def getdistmat(coordinates):\n",
    "    num = coordinates.shape[0]\n",
    "    distmat = np.zeros((52,52))\n",
    "    for i in range(num):\n",
    "        for j in range(i,num):\n",
    "            distmat[i][j] = distmat[j][i]=np.linalg.norm(coordinates[i]-coordinates[j])  # i与j的欧氏距离\n",
    "    return distmat\n",
    "```"
   ]
  },
  {
   "cell_type": "code",
   "execution_count": 1,
   "metadata": {},
   "outputs": [],
   "source": []
  },
  {
   "cell_type": "markdown",
   "metadata": {},
   "source": [
    "2、添加如下所示的52个城市的地理坐标。"
   ]
  },
  {
   "cell_type": "markdown",
   "metadata": {},
   "source": [
    "```python\n",
    "def initpara():\n",
    "    alpha = 0.99\n",
    "    t = (1,100)\n",
    "    markovlen = 500\n",
    "    return alpha,t,markovlen\n",
    "# 52个城市的坐标\n",
    "coordinates = np.array([[565.0,575.0],[25.0,185.0],[345.0,750.0],[945.0,685.0],[845.0,655.0],\n",
    "[880.0,660.0],[25.0,230.0],[525.0,1000.0],[580.0,1175.0],[650.0,1130.0],\n",
    "[1605.0,620.0],[1220.0,580.0],[1465.0,200.0],[1530.0,  5.0],[845.0,680.0],\n",
    "[725.0,370.0],[145.0,665.0],[415.0,635.0],[510.0,875.0],[560.0,365.0],\n",
    "[300.0,465.0],[520.0,585.0],[480.0,415.0],[835.0,625.0],[975.0,580.0],\n",
    "[1215.0,245.0],[1320.0,315.0],[1250.0,400.0],[660.0,180.0],[410.0,250.0],\n",
    "[420.0,555.0],[575.0,665.0],[1150.0,1160.0],[700.0,580.0],[685.0,595.0],\n",
    "[685.0,610.0],[770.0,610.0],[795.0,645.0],[720.0,635.0],[760.0,650.0],\n",
    "[475.0,960.0],[95.0,260.0],[875.0,920.0],[700.0,500.0],[555.0,815.0],\n",
    "[830.0,485.0],[1170.0, 65.0],[830.0,610.0],[605.0,625.0],[595.0,360.0],\n",
    "[1340.0,725.0],[1740.0,245.0]])\n",
    "```"
   ]
  },
  {
   "cell_type": "code",
   "execution_count": 2,
   "metadata": {},
   "outputs": [],
   "source": []
  },
  {
   "cell_type": "markdown",
   "metadata": {},
   "source": [
    "### 参数初始化"
   ]
  },
  {
   "cell_type": "markdown",
   "metadata": {},
   "source": [
    "3、定义参数,包括当前路径的最优解和初始解、最大迭代次数、时间参数等。"
   ]
  },
  {
   "cell_type": "markdown",
   "metadata": {},
   "source": [
    "```python\n",
    "num = coordinates.shape[0]\n",
    "distmat = getdistmat(coordinates)\n",
    "# 初始解\n",
    "solutionnew = np.arange(num)\n",
    "valuenew = sys.float_info.max # np.max\n",
    "solutioncurrent = solutionnew.copy()\n",
    "valuecurrent = sys.float_info.max # np.max\n",
    "solutionbest = solutionnew.copy()\n",
    "valuebest = sys.float_info.max # np.max\n",
    "alpha, t2, markovlen = initpara()\n",
    "t = t2[1]\n",
    "result = [] #记录迭代过程中的最优解\n",
    "```"
   ]
  },
  {
   "cell_type": "code",
   "execution_count": 3,
   "metadata": {},
   "outputs": [],
   "source": []
  },
  {
   "cell_type": "markdown",
   "metadata": {},
   "source": [
    "### 迭代计算"
   ]
  },
  {
   "cell_type": "markdown",
   "metadata": {},
   "source": [
    "4、定义如下所示的迭代方法，随机选择当前路径的某一段路径替换，当该路径优于当前最佳路径时，更新最佳路径，否则随机的将该差值赋值当前路径。下次迭代路径被赋值为当前最佳路径，使得此迭代都从最佳路径开始寻找。设计了两种扰动方式。"
   ]
  },
  {
   "cell_type": "markdown",
   "metadata": {},
   "source": [
    "```python\n",
    "while t > t2[0]:\n",
    "    for i in np.arange(markovlen): #迭代次数\n",
    "        #下面的两交换和三角换是两种扰动方式，用于产生新解\n",
    "        if np.random.rand() > 0.5:  # 两交换\n",
    "            # np.random.rand()产生[0, 1)区间的均匀随机数\n",
    "            while True:             #产生两个不同的随机数\n",
    "                loc1 = np.int(np.ceil(np.random.rand()*(num-1)))\n",
    "                loc2 = np.int(np.ceil(np.random.rand()*(num-1)))\n",
    "                if loc1 != loc2:\n",
    "                    break\n",
    "            solutionnew[loc1],solutionnew[loc2] = solutionnew[loc2],solutionnew[loc1]\n",
    "        else:                       #三交换\n",
    "            while True:\n",
    "                loc1 = np.int(np.ceil(np.random.rand()*(num-1)))\n",
    "                loc2 = np.int(np.ceil(np.random.rand()*(num-1))) \n",
    "                loc3 = np.int(np.ceil(np.random.rand()*(num-1)))\n",
    "                if((loc1 != loc2)&(loc2 != loc3)&(loc1 != loc3)):\n",
    "                    break\n",
    "            # 下面的三个判断语句使得loc1<loc2<loc3\n",
    "            if loc1 > loc2:\n",
    "                loc1,loc2 = loc2,loc1\n",
    "            if loc2 > loc3:\n",
    "                loc2,loc3 = loc3,loc2\n",
    "            if loc1 > loc2:\n",
    "                loc1,loc2 = loc2,loc1\n",
    "            #下面的三行代码将[loc1,loc2)区间的数据插入到loc3之后\n",
    "            tmplist = solutionnew[loc1:loc2].copy()\n",
    "            solutionnew[loc1:loc3-loc2+1+loc1] = solutionnew[loc2:loc3+1].copy()\n",
    "            solutionnew[loc3-loc2+1+loc1:loc3+1] = tmplist.copy()  \n",
    "        valuenew = 0\n",
    "```"
   ]
  },
  {
   "cell_type": "markdown",
   "metadata": {},
   "source": [
    "5、以上为当前路径添加了扰动，计算添加扰动后路径的总距离，并保存最佳路径。"
   ]
  },
  {
   "cell_type": "markdown",
   "metadata": {},
   "source": [
    "```python\n",
    "        for j in range(num-1):          # 计算路径长度\n",
    "            valuenew += distmat[solutionnew[j]][solutionnew[j+1]] \n",
    "        valuenew += distmat[solutionnew[51]][solutionnew[0]]  #加上 首尾两城市的距离\n",
    "        if valuenew < valuecurrent:     # 接受该解\n",
    "            #更新solutioncurrent 和solutionbest\n",
    "            valuecurrent = valuenew\n",
    "            solutioncurrent = solutionnew.copy()\n",
    "            if valuenew < valuebest:    #更新最优解\n",
    "                valuebest = valuenew\n",
    "                solutionbest = solutionnew.copy()\n",
    "                print('valuebest= ',valuebest)\n",
    "        else:                           # 按一定的概率接受该解\n",
    "            if np.random.rand() < np.exp(-(valuenew-valuecurrent)/t):\n",
    "                valuecurrent = valuenew\n",
    "                solutioncurrent = solutionnew.copy()\n",
    "            else:\n",
    "                solutionnew = solutioncurrent.copy()\n",
    "    t = alpha*t\n",
    "    result.append(valuebest)\n",
    "    #print(t) #程序运行时间较长，打印t来监视程序进展速度\n",
    "```"
   ]
  },
  {
   "cell_type": "code",
   "execution_count": 4,
   "metadata": {},
   "outputs": [
    {
     "name": "stdout",
     "output_type": "stream",
     "text": [
      "valuebest=  23438.23306156694\n",
      "valuebest=  23199.231732728877\n",
      "valuebest=  22901.89735759715\n",
      "valuebest=  22846.016298735594\n",
      "valuebest=  21606.847198573203\n",
      "valuebest=  21492.96103155872\n",
      "valuebest=  21442.60788051912\n",
      "valuebest=  21386.072816429656\n",
      "valuebest=  20706.711276543374\n",
      "valuebest=  20636.9583275998\n",
      "valuebest=  20491.943571415006\n",
      "valuebest=  20478.33394196495\n",
      "valuebest=  20431.534927085202\n",
      "valuebest=  20405.60044359186\n",
      "valuebest=  20137.85110199325\n",
      "valuebest=  20085.46701638588\n",
      "valuebest=  19869.041080733812\n",
      "valuebest=  19846.58667999258\n",
      "valuebest=  19569.628520080725\n",
      "valuebest=  19469.527979617258\n",
      "valuebest=  19442.933226651992\n",
      "valuebest=  19378.817431585452\n",
      "valuebest=  18836.95649119945\n",
      "valuebest=  17883.578681426032\n",
      "valuebest=  17086.47704500495\n",
      "valuebest=  17001.9068238072\n",
      "valuebest=  16905.779706330723\n",
      "valuebest=  16853.435107329435\n",
      "valuebest=  16641.108419678192\n",
      "valuebest=  16625.225164017884\n",
      "valuebest=  16562.181238840585\n",
      "valuebest=  16480.677778303245\n",
      "valuebest=  15712.653921222993\n",
      "valuebest=  15665.463801285212\n",
      "valuebest=  15522.766820279398\n",
      "valuebest=  15447.730688003696\n",
      "valuebest=  15361.167646962036\n",
      "valuebest=  15064.370163797521\n",
      "valuebest=  14970.921212585423\n",
      "valuebest=  14958.069477205085\n",
      "valuebest=  14952.26831832867\n",
      "valuebest=  14926.637168991323\n",
      "valuebest=  14768.411944377605\n",
      "valuebest=  14381.884227328612\n",
      "valuebest=  14299.372370474664\n",
      "valuebest=  14232.497953414479\n",
      "valuebest=  14140.221850319078\n",
      "valuebest=  14096.593981495622\n",
      "valuebest=  13983.56231654491\n",
      "valuebest=  13882.482735146086\n",
      "valuebest=  13878.511521793513\n",
      "valuebest=  13780.012614062447\n",
      "valuebest=  13729.322701692332\n",
      "valuebest=  13723.079287559367\n",
      "valuebest=  13604.566322274422\n",
      "valuebest=  13543.85469024697\n",
      "valuebest=  13241.523514129525\n",
      "valuebest=  13217.11631304972\n",
      "valuebest=  13181.60737378381\n",
      "valuebest=  13153.104601760957\n",
      "valuebest=  13080.411306151862\n",
      "valuebest=  12906.581498761769\n",
      "valuebest=  12783.420943403527\n",
      "valuebest=  12703.080542040796\n",
      "valuebest=  12644.042914856032\n",
      "valuebest=  12518.659938945775\n",
      "valuebest=  12429.384651123964\n",
      "valuebest=  12302.65550539755\n",
      "valuebest=  12263.786266808846\n",
      "valuebest=  12171.017863313196\n",
      "valuebest=  12115.516376743699\n",
      "valuebest=  12036.768244822306\n",
      "valuebest=  11752.540089627093\n",
      "valuebest=  11716.230408624093\n",
      "valuebest=  11685.49600529175\n",
      "valuebest=  11678.271296460809\n",
      "valuebest=  11561.891118504913\n",
      "valuebest=  11500.588410435554\n",
      "valuebest=  11441.060396937692\n",
      "valuebest=  11082.666232596499\n",
      "valuebest=  11080.813419464408\n",
      "valuebest=  11030.562578545821\n",
      "valuebest=  10933.773131834929\n",
      "valuebest=  10916.796864060105\n",
      "valuebest=  10908.454102714279\n",
      "valuebest=  10671.127031318467\n",
      "valuebest=  10447.29680319403\n",
      "valuebest=  10350.363247384588\n",
      "valuebest=  10279.437624810094\n",
      "valuebest=  10237.69272114352\n",
      "valuebest=  10111.003212720336\n",
      "valuebest=  10080.854740171966\n",
      "valuebest=  9950.88774068085\n",
      "valuebest=  9880.742517242268\n",
      "valuebest=  9823.054310733876\n",
      "valuebest=  9738.449312668301\n",
      "valuebest=  9661.061623841202\n",
      "valuebest=  9409.283153391683\n",
      "valuebest=  9319.479892824127\n",
      "valuebest=  9240.459801263476\n",
      "valuebest=  9216.339171967393\n",
      "valuebest=  9199.102118173012\n",
      "valuebest=  9172.33192491569\n",
      "valuebest=  9131.380853858785\n",
      "valuebest=  9043.445330756642\n",
      "valuebest=  9042.481624122916\n",
      "valuebest=  9016.7588229272\n",
      "valuebest=  8886.736938041839\n",
      "valuebest=  8876.706426775601\n",
      "valuebest=  8873.410513822284\n",
      "valuebest=  8811.93478957195\n",
      "valuebest=  8792.216345476789\n",
      "valuebest=  8750.826383401933\n",
      "valuebest=  8743.971016409107\n",
      "valuebest=  8725.555980917072\n",
      "valuebest=  8678.477759560647\n",
      "valuebest=  8584.058830856124\n",
      "valuebest=  8551.15315797716\n",
      "valuebest=  8547.124386379235\n",
      "valuebest=  8536.089113211456\n",
      "valuebest=  8530.985403804058\n",
      "valuebest=  8502.026337793082\n",
      "valuebest=  8495.504182358647\n",
      "valuebest=  8483.31179850133\n",
      "valuebest=  8449.382855541775\n",
      "valuebest=  8444.665361250452\n",
      "valuebest=  8416.373542361285\n",
      "valuebest=  8399.509724128986\n",
      "valuebest=  8329.435283846768\n",
      "valuebest=  8322.691721098217\n",
      "valuebest=  8306.31797039864\n",
      "valuebest=  8250.983234547142\n",
      "valuebest=  8228.667823647978\n",
      "valuebest=  8224.600154542555\n",
      "valuebest=  8220.51129783897\n",
      "valuebest=  8217.525073625766\n",
      "valuebest=  8214.871324607739\n",
      "valuebest=  8210.244516487646\n",
      "valuebest=  8202.176019627754\n",
      "valuebest=  8197.549211507663\n",
      "valuebest=  8194.56298729446\n",
      "valuebest=  8186.218634338327\n",
      "valuebest=  8179.696478903892\n"
     ]
    }
   ],
   "source": []
  },
  {
   "cell_type": "markdown",
   "metadata": {},
   "source": [
    "## 最佳路径绘制"
   ]
  },
  {
   "cell_type": "markdown",
   "metadata": {},
   "source": [
    "6、绘制最佳路径图解，如下所示。"
   ]
  },
  {
   "cell_type": "markdown",
   "metadata": {},
   "source": [
    "```python\n",
    "plt.figure(1,figsize=(10,4) )\n",
    "plt.subplot(1,2,1)\n",
    "plt.plot(np.array(result))\n",
    "plt.title('Simulated Annealing Optimization')\n",
    "plt.xlabel('t')\n",
    "plt.ylabel(\"bestvalue\")\n",
    "plt.subplot(1,2,2)\n",
    "plt.plot(coordinates[:,0],coordinates[:,1],'r.',marker=u'$\\cdot$')\n",
    "plt.title('Simulated Annealing Optimization')\n",
    "plt.xlabel('x')\n",
    "plt.ylabel('y')\n",
    "for i in range(num-1):\n",
    "    m, n = solutionbest[i], solutionbest[i+1]\n",
    "    #print(m,n)\n",
    "    plt.plot([coordinates[m][0],coordinates[n][0]],  [coordinates[m][1], \n",
    "coordinates[n][1]],'k')\n",
    "plt.show()\n",
    "print(solutionbest)\n",
    "```"
   ]
  },
  {
   "cell_type": "code",
   "execution_count": 5,
   "metadata": {},
   "outputs": [
    {
     "data": {
      "image/png": "[encoded data removed]",
      "text/plain": [
       "<Figure size 720x288 with 2 Axes>"
      ]
     },
     "metadata": {
      "needs_background": "light"
     },
     "output_type": "display_data"
    },
    {
     "name": "stdout",
     "output_type": "stream",
     "text": [
      "[ 0 30 17  2 16 20 41  6  1 29 28 46 25 26 12 13 51 10 50 11 27 24 45 15\n",
      " 49 19 22 21 31 44 18 40  7  8  9 32 42  3  5 14  4 23 47 37 36 39 38 35\n",
      " 34 33 43 48]\n"
     ]
    }
   ],
   "source": []
  },
  {
   "cell_type": "markdown",
   "metadata": {},
   "source": [
    "### 扩展实验"
   ]
  },
  {
   "cell_type": "markdown",
   "metadata": {},
   "source": [
    "7、为了验证所设计模拟退火算法的性能，设计三角函数如下所示，并随机扰乱次序。所设计的模拟退火算法得到结果和理论值相同。  \n",
    "<font color=#ff000>注意：用以下代码段替换上文中相应的代码段，并再次运行。 </font>"
   ]
  },
  {
   "cell_type": "markdown",
   "metadata": {},
   "source": [
    "```python\n",
    "x = [i for i in range(10)]\n",
    "y = np.zeros(len(x))\n",
    "\n",
    "coordinates = np.zeros([len(x),2])\n",
    "\n",
    "for i in range(len(x)):\n",
    "    y[i] = math.cos(2*math.pi/10*x[i])\n",
    "    coordinates[i] = [x[i],y[i]]\n",
    "    \n",
    "np.random.shuffle(coordinates)\n",
    "```"
   ]
  },
  {
   "cell_type": "markdown",
   "metadata": {},
   "source": [
    "8、当将以上的三角函数离散化为52个值时，得到的新的输出。可见并未得到最优解，但已经和最优解接近。  \n",
    "<font color=#ff000>注意：用以下代码段替换上文中相应的代码段，并再次运行。 </font>"
   ]
  },
  {
   "cell_type": "markdown",
   "metadata": {},
   "source": [
    "```python\n",
    "x = [i for i in range(52)]\n",
    "y = np.zeros(len(x))\n",
    "\n",
    "coordinates = np.zeros([len(x),2])\n",
    "\n",
    "for i in range(len(x)):\n",
    "    y[i] = math.cos(2*math.pi/52*x[i])\n",
    "    coordinates[i] = [x[i],y[i]]\n",
    "    \n",
    "np.random.shuffle(coordinates)\n",
    "```"
   ]
  },
  {
   "cell_type": "markdown",
   "metadata": {},
   "source": [
    "9、设计如下所示的圆方程路径，得到新的的解，除了局部值不正确，总体输出值仍按规律分布。  \n",
    "<font color=#ff000>注意：用以下代码段替换上文中相应的代码段，并再次运行。 </font>"
   ]
  },
  {
   "cell_type": "markdown",
   "metadata": {},
   "source": [
    "```python\n",
    "angles_circle = [i*2*math.pi/52 for i in range(0,52)]                 #i先转换成double\n",
    "#angles_circle = [i/np.pi for i in np.arange(0,360)]             # <=> \n",
    "# angles_circle = [i/180*pi for i in np.arange(0,360)]    X\n",
    "i = 0\n",
    "for angles in angles_circle:\n",
    "    x = 10*math.cos(angles)\n",
    "    y = 10*math.sin(angles)\n",
    "    coordinates[i] = [x,y]\n",
    "    i=i+1\n",
    "```"
   ]
  }
 ],
 "metadata": {
  "kernelspec": {
   "display_name": "Python 3",
   "language": "python",
   "name": "python3"
  },
  "language_info": {
   "codemirror_mode": {
    "name": "ipython",
    "version": 3
   },
   "file_extension": ".py",
   "mimetype": "text/x-python",
   "name": "python",
   "nbconvert_exporter": "python",
   "pygments_lexer": "ipython3",
   "version": "3.5.2"
  }
 },
 "nbformat": 4,
 "nbformat_minor": 2
}
