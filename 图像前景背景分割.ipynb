{
 "cells": [
  {
   "cell_type": "markdown",
   "metadata": {},
   "source": [
    "# 图像前景背景分割"
   ]
  },
  {
   "cell_type": "markdown",
   "metadata": {},
   "source": [
    "----"
   ]
  },
  {
   "cell_type": "markdown",
   "metadata": {},
   "source": [
    "## 任务目的"
   ]
  },
  {
   "cell_type": "markdown",
   "metadata": {},
   "source": [
    "本次实验将在图像中标记前景和背景区域并使用朴素贝叶斯分类器对图像分类，正确分离图像的前景和背景。"
   ]
  },
  {
   "cell_type": "markdown",
   "metadata": {},
   "source": [
    "## 任务内容"
   ]
  },
  {
   "cell_type": "markdown",
   "metadata": {},
   "source": [
    "<a href='#创建贝叶斯分类器'>创建贝叶斯分类器</a><br/>\n",
    "<a href='#定义build_bayes_graph和show_labeling函数'>定义build_bayes_graph和show_labeling函数</a><br/>\n",
    "<a href='#定义cut_gragh函数'>定义cut_gragh函数</a><br/>\n",
    "<a href='#主函数'>主函数</a><br/>"
   ]
  },
  {
   "cell_type": "markdown",
   "metadata": {},
   "source": [
    "## 任务原理"
   ]
  },
  {
   "cell_type": "markdown",
   "metadata": {},
   "source": [
    "<div>\n",
    "    <img src=\"../../image/ComputerVision/8-1.png\" style=\"float:left\" width=\"600\">\n",
    "</div>"
   ]
  },
  {
   "cell_type": "markdown",
   "metadata": {},
   "source": [
    "## 任务步骤"
   ]
  },
  {
   "cell_type": "markdown",
   "metadata": {},
   "source": [
    "### 创建贝叶斯分类器\n",
    "```python\n",
    "\n",
    "import numpy as np\n",
    "def gauss(m,v,x):\n",
    "    \"\"\" 用独立均值 m 和方差 v 评估 d 维高斯分布 \"\"\"\n",
    "    if len(x.shape)==1:\n",
    "        n,d = 1,x.shape[0]  \n",
    "    else:\n",
    "        n,d = x.shape\n",
    "  # 协方差矩阵，减去均值  \n",
    "    S = np.diag(1/v)\n",
    "    x = x-m  # 概率的乘积  \n",
    "    y = np.exp(-0.5*np.diag(np.dot(x,np.dot(S,x.T))))\n",
    "    # 归一化并返回\n",
    "    return y * (2*np.pi)**(-d/2.0) / ( np.sqrt(np.prod(v)) + 1e-6)\n",
    "\n",
    "class BayesClassifier(object):\n",
    "    def __init__(self):\n",
    "        self.labels = []\n",
    "        self.mean = []\n",
    "        self.var = []\n",
    "        self.n = 0\n",
    "    def train(self,data,labels = None):\n",
    "        if labels == None:\n",
    "            labels = range(len(data))\n",
    "        self.labels = labels\n",
    "        self.n = len(labels)\n",
    "\n",
    "        for c in data:\n",
    "            self.mean.append(np.mean(c,axis=0))\n",
    "            self.var.append(np.var(c,axis=0))\n",
    "    def classify(self,point):\n",
    "        est_prob = np.array([gauss(m,v,point) for m,v in zip(self.mean,self.var)])\n",
    "\n",
    "        ndx = est_prob.argmax(axis = 0)\n",
    "        est_labels = np.array([self.labels[n] for n in ndx])\n",
    "        return est_labels,est_prob\n",
    "\n",
    "\n",
    "```"
   ]
  },
  {
   "cell_type": "code",
   "execution_count": 1,
   "metadata": {},
   "outputs": [],
   "source": []
  },
  {
   "cell_type": "markdown",
   "metadata": {},
   "source": [
    "### 定义build_bayes_graph和show_labeling函数\n",
    "```python\n",
    "from pygraph.classes.digraph import digraph \n",
    "from pygraph.algorithms.minmax import maximum_flow\n",
    "import pdb\n",
    "import matplotlib.pyplot as plt\n",
    "def build_bayes_graph(im,labels,sigma=1e2,kappa=2):  \n",
    "    \"\"\" 从像素四邻域建立一个图，前景和背景（前景用 1 标记，背景用 -1 标记，    \n",
    "    其他的用 0 标记）由 labels 决定，并用朴素贝叶斯分类器建模 \"\"\"\n",
    "    m,n = im.shape[:2]\n",
    "    # 每行是一个像素的 RGB 向量  \n",
    "    vim = im.reshape((-1,3))\n",
    "      # 前景和背景（RGB）  \n",
    "    foreground = im[labels==1].reshape((-1,3))  \n",
    "    background = im[labels==-1].reshape((-1,3))  \n",
    "    train_data = [foreground,background]    \n",
    "    # 训练朴素贝叶斯分类器  \n",
    "    bc = BayesClassifier()  \n",
    "    bc.train(train_data)\n",
    "      # 获取所有像素的概率  \n",
    "    bc_lables,prob = bc.classify(vim)  \n",
    "    prob_fg = prob[0]  \n",
    "    prob_bg = prob[1]\n",
    "    #prob.reshape()\n",
    "      # 用m * n +2 个节点创建图  \n",
    "    gr = digraph()  \n",
    "    gr.add_nodes(range(m*n+2))\n",
    "    source = m*n # 倒数第二个是源点  \n",
    "    sink = m*n+1 # 最后一个节点是汇点\n",
    "      # 归一化  \n",
    "    for i in range(vim.shape[0]):    \n",
    "      vim[i] = vim[i] / np.linalg.norm(vim[i])\n",
    "      # 遍历所有的节点，并添加边  \n",
    "    for i in range(m*n):    \n",
    "        # 从源点添加边    \n",
    "      gr.add_edge((source,i), wt=(prob_fg[i]/(prob_fg[i]+prob_bg[i])))\n",
    "      # 向汇点添加边  \n",
    "      gr.add_edge((i,sink), wt=(prob_bg[i]/(prob_fg[i]+prob_bg[i])))\n",
    "      # 向相邻节点添加边  \n",
    "      if i%n != 0: # 左边存在      \n",
    "        edge_wt = kappa*np.exp(-1.0*sum((vim[i]-vim[i-1])**2)/sigma)      \n",
    "        gr.add_edge((i,i-1), wt=edge_wt)  \n",
    "      if (i+1)%n != 0: # 如果右边存在      \n",
    "        edge_wt = kappa*np.exp(-1.0*sum((vim[i]-vim[i+1])**2)/sigma)      \n",
    "        gr.add_edge((i,i+1), wt=edge_wt)  \n",
    "      if i//n != 0: #如果上方存在      \n",
    "        edge_wt = kappa*np.exp(-1.0*sum((vim[i]-vim[i-n])**2)/sigma)      \n",
    "        gr.add_edge((i,i-n), wt=edge_wt)  \n",
    "      if i//n != m-1: # 如果下方存在      \n",
    "        edge_wt = kappa*np.exp(-1.0*sum((vim[i]-vim[i+n])**2)/sigma)      \n",
    "        gr.add_edge((i,i+n), wt=edge_wt)\n",
    "    return gr\n",
    "\n",
    "def show_labeling(im,labels):  \n",
    "    \"\"\" 显示图像的前景和背景区域。前景 labels=1, 背景 labels=-1，其他 labels ＝ 0 \"\"\" \n",
    "    plt.imshow(im)  \n",
    "    plt.contour(labels,[-0.5,0.5])  \n",
    "    plt.contourf(labels,[-1,-0.5],colors='b',alpha=0.25)  \n",
    "    plt.contourf(labels,[0.5,1],colors='r',alpha=0.25)  \n",
    "    plt.axis('off')\n",
    "\n",
    "\n",
    "```"
   ]
  },
  {
   "cell_type": "code",
   "execution_count": 2,
   "metadata": {},
   "outputs": [],
   "source": []
  },
  {
   "cell_type": "markdown",
   "metadata": {},
   "source": [
    "### 定义cut_gragh函数\n",
    "\n",
    "```python\n",
    "def cut_graph(gr,imsize):  \n",
    "    \"\"\" 用最大流对图 gr 进行分割，并返回分割结果的二值标记 \"\"\" \n",
    "    m,n = imsize  \n",
    "    source = m*n # 倒数第二个节点是源点  \n",
    "    sink = m*n+1 # 倒数第一个是汇点\n",
    "      # 对图进行分割\n",
    "    flows,cuts = maximum_flow(gr,source,sink)\n",
    "      # 将图转为带有标记的图像\n",
    "    res = np.zeros(m*n)\n",
    "    \n",
    "    #pdb.set_trace()\n",
    "    var = cuts.items()\n",
    "    num = 0\n",
    "    for pos,label in var: # 不要添加源点 / 汇点    \n",
    "        res[pos] = label\n",
    "        num = num + 1\n",
    "        if num > m*n-1:\n",
    "          break\n",
    "    return res.reshape((m,n))\n",
    "\n",
    "\n",
    "```"
   ]
  },
  {
   "cell_type": "code",
   "execution_count": 3,
   "metadata": {},
   "outputs": [],
   "source": []
  },
  {
   "cell_type": "markdown",
   "metadata": {},
   "source": [
    "### 主函数\n",
    "```python\n",
    "\n",
    "from scipy.misc import imresize \n",
    "import numpy as np\n",
    "from PIL import Image\n",
    "im = np.array(Image.open('../../data/ComputerVision/empire.jpg')) \n",
    "im = imresize(im,0.05,interp='bilinear')\n",
    "plt.figure()\n",
    "plt.imshow(im)\n",
    "size = im.shape[:2]\n",
    "# 添加两个矩形训练区域 \n",
    "labels = np.zeros(size)\n",
    "labels[19:30,2:12] = -1\n",
    "labels[2:12,22:32] = 1\n",
    "# 创建图 \n",
    "g = build_bayes_graph(im,labels,kappa=0.1)\n",
    "# 对图进行分割 \n",
    "res = cut_graph(g,size)\n",
    "plt.figure() \n",
    "show_labeling(im,labels)\n",
    "plt.figure() \n",
    "plt.imshow(res) \n",
    "plt.gray() \n",
    "plt.axis('off')\n",
    "plt.show()\n",
    "\n",
    "```"
   ]
  },
  {
   "cell_type": "code",
   "execution_count": 4,
   "metadata": {},
   "outputs": [
    {
     "name": "stderr",
     "output_type": "stream",
     "text": [
      "/usr/local/lib/python3.5/dist-packages/ipykernel_launcher.py:5: DeprecationWarning: `imresize` is deprecated!\n",
      "`imresize` is deprecated in SciPy 1.0.0, and will be removed in 1.2.0.\n",
      "Use ``skimage.transform.resize`` instead.\n",
      "  \"\"\"\n"
     ]
    },
    {
     "data": {
      "image/png": "[encoded data removed]",
      "text/plain": [
       "<Figure size 432x288 with 1 Axes>"
      ]
     },
     "metadata": {
      "needs_background": "light"
     },
     "output_type": "display_data"
    },
    {
     "data": {
      "image/png": "[encoded data removed]",
      "text/plain": [
       "<Figure size 432x288 with 1 Axes>"
      ]
     },
     "metadata": {
      "needs_background": "light"
     },
     "output_type": "display_data"
    },
    {
     "data": {
      "image/png": "[encoded data removed]",
      "text/plain": [
       "<Figure size 432x288 with 1 Axes>"
      ]
     },
     "metadata": {
      "needs_background": "light"
     },
     "output_type": "display_data"
    }
   ],
   "source": []
  }
 ],
 "metadata": {
  "kernelspec": {
   "display_name": "Python 3",
   "language": "python",
   "name": "python3"
  },
  "language_info": {
   "codemirror_mode": {
    "name": "ipython",
    "version": 3
   },
   "file_extension": ".py",
   "mimetype": "text/x-python",
   "name": "python",
   "nbconvert_exporter": "python",
   "pygments_lexer": "ipython3",
   "version": "3.5.4"
  }
 },
 "nbformat": 4,
 "nbformat_minor": 2
}
